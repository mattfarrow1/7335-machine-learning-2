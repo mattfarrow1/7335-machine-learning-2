{
 "cells": [
  {
   "cell_type": "markdown",
   "metadata": {
    "id": "VjPYmhHj-3gI"
   },
   "source": [
    "## ML2 HW4\n",
    "### Megan Ball, Matt Farrow, Blake Freeman"
   ]
  },
  {
   "cell_type": "markdown",
   "metadata": {
    "id": "ITVOYWLD-wBi"
   },
   "source": [
    " Below you see a tutorial from Keras on using transfer learning.  \n",
    " They train their models on have the digits and predict the second half.   \n",
    " Your homework is to train on all digits and make your own handwritten data set of 5 characters (ie A, B, C, D, E)  \n",
    " and transfer your minist trained model over to them.  Enjoy!\n"
   ]
  },
  {
   "cell_type": "code",
   "execution_count": 71,
   "metadata": {
    "id": "ueL1AkGeLAeQ"
   },
   "outputs": [],
   "source": [
    "#import packages\n",
    "import numpy as np\n",
    "from sklearn.utils import shuffle\n",
    "from sklearn.metrics import accuracy_score\n",
    "from sklearn.preprocessing import LabelEncoder\n",
    "import matplotlib.pyplot as plt\n",
    "\n",
    "import tensorflow as tf\n",
    "from tensorflow import keras\n",
    "from tensorflow.keras import Sequential, Model"
   ]
  },
  {
   "cell_type": "code",
   "execution_count": 72,
   "metadata": {
    "id": "zmRBJlEFfaZo"
   },
   "outputs": [],
   "source": [
    "#set random seed for reproducibility\n",
    "from numpy.random import seed\n",
    "seed(123)\n",
    "tf.random.set_seed(45)"
   ]
  },
  {
   "cell_type": "markdown",
   "metadata": {
    "id": "LIenR_ZqBCls"
   },
   "source": [
    "## Importing Data"
   ]
  },
  {
   "cell_type": "markdown",
   "metadata": {
    "id": "5-AVSVrsBSH-"
   },
   "source": [
    "Below text and model creation adapted from example script provided in office hours."
   ]
  },
  {
   "cell_type": "code",
   "execution_count": 73,
   "metadata": {
    "id": "tTpKomjwA3hD"
   },
   "outputs": [],
   "source": [
    "# load in the dataset\n",
    "(x_train, y_train), (x_test, y_test) = keras.datasets.mnist.load_data()"
   ]
  },
  {
   "cell_type": "code",
   "execution_count": 74,
   "metadata": {
    "colab": {
     "base_uri": "https://localhost:8080/"
    },
    "id": "pZXbs2dvBIRn",
    "outputId": "72ea6755-0937-47bb-fd6a-c4e25a57c76f"
   },
   "outputs": [
    {
     "name": "stdout",
     "output_type": "stream",
     "text": [
      "(60000, 28, 28)\n"
     ]
    }
   ],
   "source": [
    "print(x_train.shape)"
   ]
  },
  {
   "cell_type": "code",
   "execution_count": 75,
   "metadata": {
    "colab": {
     "base_uri": "https://localhost:8080/"
    },
    "id": "rbUWk_v-BLo2",
    "outputId": "344cb665-1c42-47a7-a1f1-6d7ea9f2a8c3"
   },
   "outputs": [
    {
     "name": "stdout",
     "output_type": "stream",
     "text": [
      "(60000,)\n"
     ]
    }
   ],
   "source": [
    "print(y_train.shape)"
   ]
  },
  {
   "cell_type": "code",
   "execution_count": 76,
   "metadata": {
    "colab": {
     "base_uri": "https://localhost:8080/",
     "height": 630
    },
    "id": "c4cTRM-kBOET",
    "outputId": "f1b4be56-a8c4-45f4-d195-3dbc0da4a7a6"
   },
   "outputs": [
    {
     "name": "stdout",
     "output_type": "stream",
     "text": [
      "Look at some numbers\n",
      "\n"
     ]
    },
    {
     "data": {
      "image/png": "[encoded data removed]",
      "text/plain": [
       "<Figure size 864x720 with 16 Axes>"
      ]
     },
     "metadata": {
      "needs_background": "light"
     },
     "output_type": "display_data"
    }
   ],
   "source": [
    "# Look at some random numbers\n",
    "X_shuffle = shuffle(x_train.copy(), random_state=42)\n",
    "\n",
    "print('Look at some numbers\\n')\n",
    "plt.figure(figsize = (12,10))\n",
    "row, colums = 4, 4\n",
    "for i in range(16):\n",
    "    plt.subplot(colums, row, i+1)\n",
    "    plt.imshow(X_shuffle[i].reshape(28,28),interpolation='nearest', cmap='Greys')\n",
    "plt.show()"
   ]
  },
  {
   "cell_type": "markdown",
   "metadata": {
    "id": "xxz1o2JxY1Y_"
   },
   "source": [
    "## Data Preprocessing\n",
    "\n",
    "We need to do the following to preprocess the data:\n",
    "\n",
    "1. Divide the values by the max value (255)\n",
    "2. Add a color channel (require by the convolutional layer)\n",
    "\n",
    "By default Keras assumes images are formatted as (number of examples, x-dim, y-dim, number of colors)\n",
    "\n",
    "An RGB image has 3 color channels, greyscale as 1 color channel"
   ]
  },
  {
   "cell_type": "code",
   "execution_count": 77,
   "metadata": {
    "colab": {
     "base_uri": "https://localhost:8080/"
    },
    "id": "MU_j9yJhk7u0",
    "outputId": "ff66e6fc-4cb6-415d-86e9-56247dc3316c"
   },
   "outputs": [
    {
     "data": {
      "text/plain": [
       "255"
      ]
     },
     "execution_count": 77,
     "metadata": {},
     "output_type": "execute_result"
    }
   ],
   "source": [
    "x_train.max()"
   ]
  },
  {
   "cell_type": "code",
   "execution_count": 78,
   "metadata": {
    "id": "kbBvQ1frPTBq"
   },
   "outputs": [],
   "source": [
    "# divide by the color channel\n",
    "x_train = x_train / 255.\n",
    "x_test = x_test / 255."
   ]
  },
  {
   "cell_type": "code",
   "execution_count": 79,
   "metadata": {
    "id": "H1DrFO9glF2R"
   },
   "outputs": [],
   "source": [
    "# add the color channel\n",
    "x_train = x_train.reshape(x_train.shape + (1,))\n",
    "x_test = x_test.reshape(x_test.shape + (1,))"
   ]
  },
  {
   "cell_type": "code",
   "execution_count": 80,
   "metadata": {
    "colab": {
     "base_uri": "https://localhost:8080/"
    },
    "id": "Hp2PzwnJlILB",
    "outputId": "b2961335-8ff2-425b-8d06-8315e970e19a"
   },
   "outputs": [
    {
     "data": {
      "text/plain": [
       "(60000, 28, 28, 1)"
      ]
     },
     "execution_count": 80,
     "metadata": {},
     "output_type": "execute_result"
    }
   ],
   "source": [
    "x_train.shape"
   ]
  },
  {
   "cell_type": "markdown",
   "metadata": {
    "id": "Dt8luNRWcXhb"
   },
   "source": [
    "## Setup the Model\n",
    "\n",
    "This is a very basic convolutional network.\n",
    "There are essentially two sections\n",
    "1. convolutional feature extraction layers\n",
    "2. dense (fully-connected) classifier layers"
   ]
  },
  {
   "cell_type": "code",
   "execution_count": 81,
   "metadata": {
    "id": "4YkIEoGRlJrG"
   },
   "outputs": [],
   "source": [
    "num_classes=10\n",
    "filters=32\n",
    "kernel_size=3\n",
    "pool_size=2\n",
    "dropout=0.2\n",
    "input_shape = (28,28,1)\n",
    "\n",
    "model = Sequential([\n",
    "      # convolutional feature extraction\n",
    "      # ConvNet 1\n",
    "\n",
    "        # convoultional part\n",
    "      keras.layers.Conv2D(filters, kernel_size, padding = 'valid',\n",
    "              activation='relu',\n",
    "              input_shape=input_shape),\n",
    "        # pooling part\n",
    "      keras.layers.MaxPooling2D(pool_size=pool_size),\n",
    "\n",
    "      # ConvNet 2\n",
    "      \n",
    "        # convoultional part\n",
    "      keras.layers.Conv2D(filters, kernel_size,\n",
    "              padding = 'valid',\n",
    "              activation='relu'),\n",
    "        # pooling part\n",
    "      keras.layers.MaxPooling2D(pool_size=pool_size),\n",
    "\n",
    "      # classification \n",
    "      # will retrain from here\n",
    "      keras.layers.Flatten(name='flatten'),\n",
    "\n",
    "      # fully conencted layer 1\n",
    "      keras.layers.Dropout(dropout),\n",
    "      keras.layers.Dense(128, activation='relu'),\n",
    "      \n",
    "      # fully connected layer 2\n",
    "      keras.layers.Dropout(dropout, name='penult'),\n",
    "      keras.layers.Dense(num_classes, activation='softmax', name='last')\n",
    "  ])"
   ]
  },
  {
   "cell_type": "code",
   "execution_count": 82,
   "metadata": {
    "colab": {
     "base_uri": "https://localhost:8080/"
    },
    "id": "hNG6f_i-lSx8",
    "outputId": "5cf5edb9-349f-4a48-b2f7-f368d40f3d3c"
   },
   "outputs": [
    {
     "name": "stdout",
     "output_type": "stream",
     "text": [
      "Model: \"sequential_1\"\n",
      "_________________________________________________________________\n",
      "Layer (type)                 Output Shape              Param #   \n",
      "=================================================================\n",
      "conv2d_2 (Conv2D)            (None, 26, 26, 32)        320       \n",
      "_________________________________________________________________\n",
      "max_pooling2d_2 (MaxPooling2 (None, 13, 13, 32)        0         \n",
      "_________________________________________________________________\n",
      "conv2d_3 (Conv2D)            (None, 11, 11, 32)        9248      \n",
      "_________________________________________________________________\n",
      "max_pooling2d_3 (MaxPooling2 (None, 5, 5, 32)          0         \n",
      "_________________________________________________________________\n",
      "flatten (Flatten)            (None, 800)               0         \n",
      "_________________________________________________________________\n",
      "dropout_1 (Dropout)          (None, 800)               0         \n",
      "_________________________________________________________________\n",
      "dense_2 (Dense)              (None, 128)               102528    \n",
      "_________________________________________________________________\n",
      "penult (Dropout)             (None, 128)               0         \n",
      "_________________________________________________________________\n",
      "last (Dense)                 (None, 10)                1290      \n",
      "=================================================================\n",
      "Total params: 113,386\n",
      "Trainable params: 113,386\n",
      "Non-trainable params: 0\n",
      "_________________________________________________________________\n"
     ]
    }
   ],
   "source": [
    "# print summary of model as check\n",
    "model.summary()"
   ]
  },
  {
   "cell_type": "code",
   "execution_count": 83,
   "metadata": {
    "colab": {
     "base_uri": "https://localhost:8080/",
     "height": 552
    },
    "id": "PW24JXHjlYq2",
    "outputId": "3d00ad16-af35-487e-9c9a-68effbaf6010"
   },
   "outputs": [
    {
     "data": {
      "image/png": "[encoded data removed]",
      "text/plain": [
       "<IPython.core.display.Image object>"
      ]
     },
     "execution_count": 83,
     "metadata": {},
     "output_type": "execute_result"
    }
   ],
   "source": [
    "# print image of model as check\n",
    "keras.utils.plot_model(model, show_shapes=True, dpi=48)"
   ]
  },
  {
   "cell_type": "code",
   "execution_count": 84,
   "metadata": {
    "id": "1s5EUviilahy"
   },
   "outputs": [],
   "source": [
    "es = keras.callbacks.EarlyStopping(min_delta=0.001, patience=2)"
   ]
  },
  {
   "cell_type": "markdown",
   "metadata": {
    "id": "9pqsqdTUJBS3"
   },
   "source": [
    "## Loss Functions\n",
    "\n",
    "When y labels are sequential use `sparse_categorical_crossentropy`.  \n",
    "When y labels are onehot encoded, use `categorical_crossentropy`."
   ]
  },
  {
   "cell_type": "code",
   "execution_count": 85,
   "metadata": {
    "colab": {
     "base_uri": "https://localhost:8080/"
    },
    "id": "mghQpLeglfR0",
    "outputId": "2642e9df-badf-4619-9470-b823ac431589"
   },
   "outputs": [
    {
     "name": "stdout",
     "output_type": "stream",
     "text": [
      "Epoch 1/1000\n",
      "1500/1500 [==============================] - 41s 27ms/step - loss: 0.2165 - accuracy: 0.9317 - val_loss: 0.0574 - val_accuracy: 0.9836\n",
      "Epoch 2/1000\n",
      "1500/1500 [==============================] - 41s 27ms/step - loss: 0.0740 - accuracy: 0.9773 - val_loss: 0.0588 - val_accuracy: 0.9816\n",
      "Epoch 3/1000\n",
      "1500/1500 [==============================] - 41s 27ms/step - loss: 0.0567 - accuracy: 0.9825 - val_loss: 0.0409 - val_accuracy: 0.9877\n",
      "Epoch 4/1000\n",
      "1500/1500 [==============================] - 40s 27ms/step - loss: 0.0440 - accuracy: 0.9863 - val_loss: 0.0409 - val_accuracy: 0.9872\n",
      "Epoch 5/1000\n",
      "1500/1500 [==============================] - 40s 27ms/step - loss: 0.0377 - accuracy: 0.9881 - val_loss: 0.0378 - val_accuracy: 0.9903\n",
      "Epoch 6/1000\n",
      "1500/1500 [==============================] - 40s 27ms/step - loss: 0.0332 - accuracy: 0.9899 - val_loss: 0.0340 - val_accuracy: 0.9905\n",
      "Epoch 7/1000\n",
      "1500/1500 [==============================] - 41s 27ms/step - loss: 0.0310 - accuracy: 0.9902 - val_loss: 0.0364 - val_accuracy: 0.9902\n",
      "Epoch 8/1000\n",
      "1500/1500 [==============================] - 40s 27ms/step - loss: 0.0255 - accuracy: 0.9910 - val_loss: 0.0349 - val_accuracy: 0.9905\n"
     ]
    }
   ],
   "source": [
    "model.compile(loss='sparse_categorical_crossentropy',\n",
    "                      optimizer='adam',\n",
    "                      metrics=['accuracy'])\n",
    "\n",
    "history = model.fit(x_train, y_train,\n",
    "                    validation_split=0.2,\n",
    "                    batch_size=32,\n",
    "                    epochs=1000,\n",
    "                    callbacks=[es])"
   ]
  },
  {
   "cell_type": "code",
   "execution_count": 86,
   "metadata": {
    "id": "u0RU8-ebliJJ"
   },
   "outputs": [],
   "source": [
    "def plot_training_curves(history, title=None):\n",
    "    ''' Plot the training curves for loss and accuracy given a model history\n",
    "    '''\n",
    "    # find the minimum loss epoch\n",
    "    minimum = np.min(history.history['val_loss'])\n",
    "    min_loc = np.where(minimum == history.history['val_loss'])[0]\n",
    "    # get the vline y-min and y-max\n",
    "    loss_min, loss_max = (min(history.history['val_loss'] + history.history['loss']),\n",
    "                          max(history.history['val_loss'] + history.history['loss']))\n",
    "    acc_min, acc_max = (min(history.history['val_accuracy'] + history.history['accuracy']),\n",
    "                        max(history.history['val_accuracy'] + history.history['accuracy']))\n",
    "    # create figure\n",
    "    fig, ax = plt.subplots(ncols=2, figsize = (15,7))\n",
    "    fig.suptitle(title)\n",
    "    index = np.arange(1, len(history.history['accuracy']) + 1)\n",
    "    # plot the loss and validation loss\n",
    "    ax[0].plot(index, history.history['loss'], label = 'loss')\n",
    "    ax[0].plot(index, history.history['val_loss'], label = 'val_loss')\n",
    "    ax[0].vlines(min_loc + 1, loss_min, loss_max, label = 'min_loss_location')\n",
    "    ax[0].set_title('Loss')\n",
    "    ax[0].set_ylabel('Loss')\n",
    "    ax[0].set_xlabel('Epochs')\n",
    "    ax[0].legend()\n",
    "    # plot the accuracy and validation accuracy\n",
    "    ax[1].plot(index, history.history['accuracy'], label = 'accuracy')\n",
    "    ax[1].plot(index, history.history['val_accuracy'], label = 'val_accuracy')\n",
    "    ax[1].vlines(min_loc + 1, acc_min, acc_max, label = 'min_loss_location')\n",
    "    ax[1].set_title('Accuracy')\n",
    "    ax[1].set_ylabel('Accuracy')\n",
    "    ax[1].set_xlabel('Epochs')\n",
    "    ax[1].legend()\n",
    "    plt.show()"
   ]
  },
  {
   "cell_type": "code",
   "execution_count": 87,
   "metadata": {
    "colab": {
     "base_uri": "https://localhost:8080/",
     "height": 458
    },
    "id": "8vs5O3RplmkO",
    "outputId": "19bceaab-fde5-43c7-fc0a-4a89ad5d3eed"
   },
   "outputs": [
    {
     "data": {
      "image/png": "[encoded data removed]",
      "text/plain": [
       "<Figure size 1080x504 with 2 Axes>"
      ]
     },
     "metadata": {
      "needs_background": "light"
     },
     "output_type": "display_data"
    }
   ],
   "source": [
    "plot_training_curves(history)"
   ]
  },
  {
   "cell_type": "code",
   "execution_count": 88,
   "metadata": {
    "id": "6UiRP17Mlolh"
   },
   "outputs": [],
   "source": [
    "# predict using the model\n",
    "preds = model.predict(x_test)"
   ]
  },
  {
   "cell_type": "code",
   "execution_count": 89,
   "metadata": {
    "colab": {
     "base_uri": "https://localhost:8080/"
    },
    "id": "hjruwG-KlqEm",
    "outputId": "92387867-7b66-40e7-ee6c-e33206537174"
   },
   "outputs": [
    {
     "data": {
      "text/plain": [
       "(10000, 28, 28, 1)"
      ]
     },
     "execution_count": 89,
     "metadata": {},
     "output_type": "execute_result"
    }
   ],
   "source": [
    "x_test.shape"
   ]
  },
  {
   "cell_type": "code",
   "execution_count": 90,
   "metadata": {
    "colab": {
     "base_uri": "https://localhost:8080/"
    },
    "id": "nbJPBoZSlrgt",
    "outputId": "e8219abc-b2bd-4060-93b9-44d1c8597896"
   },
   "outputs": [
    {
     "data": {
      "text/plain": [
       "(10000, 10)"
      ]
     },
     "execution_count": 90,
     "metadata": {},
     "output_type": "execute_result"
    }
   ],
   "source": [
    "preds.shape"
   ]
  },
  {
   "cell_type": "code",
   "execution_count": 91,
   "metadata": {
    "colab": {
     "base_uri": "https://localhost:8080/"
    },
    "id": "gWdP4K80ltF9",
    "outputId": "a0534795-15ee-4ccf-e04a-012f8a479df9"
   },
   "outputs": [
    {
     "data": {
      "text/plain": [
       "array([4.05709971e-12, 2.03208006e-09, 2.18381180e-09, 6.15939522e-10,\n",
       "       1.25155725e-14, 2.28314971e-11, 4.92770464e-19, 1.00000000e+00,\n",
       "       3.03172700e-12, 1.32207523e-09], dtype=float32)"
      ]
     },
     "execution_count": 91,
     "metadata": {},
     "output_type": "execute_result"
    }
   ],
   "source": [
    "preds[0]"
   ]
  },
  {
   "cell_type": "code",
   "execution_count": 92,
   "metadata": {
    "colab": {
     "base_uri": "https://localhost:8080/"
    },
    "id": "PZKNWNviluvh",
    "outputId": "76f3a3bd-4edc-45f7-e219-849374cea943"
   },
   "outputs": [
    {
     "data": {
      "text/plain": [
       "0.9922"
      ]
     },
     "execution_count": 92,
     "metadata": {},
     "output_type": "execute_result"
    }
   ],
   "source": [
    "# classify the test set\n",
    "\n",
    "# predict using the model\n",
    "preds = model.predict(x_test)\n",
    "# argmax along rows to get classification\n",
    "preds = np.argmax(preds, axis=1).astype(\"uint8\")\n",
    "\n",
    "accuracy_score(y_test, preds)"
   ]
  },
  {
   "cell_type": "code",
   "execution_count": 93,
   "metadata": {
    "colab": {
     "base_uri": "https://localhost:8080/"
    },
    "id": "X4a14_3zlw0N",
    "outputId": "a1f1fec4-d981-40e8-f599-a11a5bf591b6"
   },
   "outputs": [
    {
     "data": {
      "text/plain": [
       "(10000,)"
      ]
     },
     "execution_count": 93,
     "metadata": {},
     "output_type": "execute_result"
    }
   ],
   "source": [
    "preds.shape"
   ]
  },
  {
   "cell_type": "code",
   "execution_count": 94,
   "metadata": {
    "colab": {
     "base_uri": "https://localhost:8080/"
    },
    "id": "pKs6_nLklyhE",
    "outputId": "eae7033b-a0a3-4e71-de5f-c6925e16d649"
   },
   "outputs": [
    {
     "data": {
      "text/plain": [
       "array([7, 2, 1, ..., 4, 5, 6], dtype=uint8)"
      ]
     },
     "execution_count": 94,
     "metadata": {},
     "output_type": "execute_result"
    }
   ],
   "source": [
    "preds"
   ]
  },
  {
   "cell_type": "markdown",
   "metadata": {
    "id": "5wXUoFvAlzUw"
   },
   "source": [
    "# Using Our Own Dataset\n",
    "\n",
    "> From this point on, we adapt Stuart's code using our own handwritten letters. We make a training set of 55 letters and a test/validation set of 5 letters (one of each letter)."
   ]
  },
  {
   "cell_type": "markdown",
   "metadata": {
    "id": "AZQKbbr4QsLj"
   },
   "source": [
    "## Load Train Set"
   ]
  },
  {
   "cell_type": "code",
   "execution_count": 95,
   "metadata": {
    "colab": {
     "base_uri": "https://localhost:8080/"
    },
    "id": "ASxRCYaxl7xe",
    "outputId": "61d659ed-0f66-409f-f551-a2885e47bac1"
   },
   "outputs": [
    {
     "name": "stdout",
     "output_type": "stream",
     "text": [
      "Requirement already satisfied: pillow in /usr/local/lib/python3.7/dist-packages (7.1.2)\n"
     ]
    }
   ],
   "source": [
    "!pip install pillow\n",
    "import numpy as np\n",
    "from PIL import Image\n",
    "\n",
    "import matplotlib.pyplot as plt\n",
    "import glob"
   ]
  },
  {
   "cell_type": "code",
   "execution_count": 96,
   "metadata": {
    "colab": {
     "base_uri": "https://localhost:8080/"
    },
    "id": "wx8kXHU_mKzI",
    "outputId": "7e917d53-71b6-40f5-ecd0-942e80bd4f11"
   },
   "outputs": [
    {
     "data": {
      "text/plain": [
       "['drive/My Drive/train_letters/a_matt_2.jpg',\n",
       " 'drive/My Drive/train_letters/a_matt_3.jpg',\n",
       " 'drive/My Drive/train_letters/a_matt_4.jpg',\n",
       " 'drive/My Drive/train_letters/c_matt_2.jpg',\n",
       " 'drive/My Drive/train_letters/d_matt_2.jpg',\n",
       " 'drive/My Drive/train_letters/e_matt_2.jpg',\n",
       " 'drive/My Drive/train_letters/a_matt_1.jpg',\n",
       " 'drive/My Drive/train_letters/b_matt_1.jpg',\n",
       " 'drive/My Drive/train_letters/c_matt_1.jpg',\n",
       " 'drive/My Drive/train_letters/d_matt_1.jpg',\n",
       " 'drive/My Drive/train_letters/e_matt_1.jpg',\n",
       " 'drive/My Drive/train_letters/b_matt_3.jpg',\n",
       " 'drive/My Drive/train_letters/c_matt_3.jpg',\n",
       " 'drive/My Drive/train_letters/d_matt_3.jpg',\n",
       " 'drive/My Drive/train_letters/e_matt_3.jpg',\n",
       " 'drive/My Drive/train_letters/b_matt_4.jpg',\n",
       " 'drive/My Drive/train_letters/c_matt_4.jpg',\n",
       " 'drive/My Drive/train_letters/d_matt_4.jpg',\n",
       " 'drive/My Drive/train_letters/e_matt_4.jpg',\n",
       " 'drive/My Drive/train_letters/a_blake_2.jpg',\n",
       " 'drive/My Drive/train_letters/b_blake_2.jpg',\n",
       " 'drive/My Drive/train_letters/c_blake_2.jpg',\n",
       " 'drive/My Drive/train_letters/d_blake_2.jpg',\n",
       " 'drive/My Drive/train_letters/e_blake_2.jpg',\n",
       " 'drive/My Drive/train_letters/a_blake_3.jpg',\n",
       " 'drive/My Drive/train_letters/b_blake_3.jpg',\n",
       " 'drive/My Drive/train_letters/c_blake_3.jpg',\n",
       " 'drive/My Drive/train_letters/d_blake_3.jpg',\n",
       " 'drive/My Drive/train_letters/e_blake_3.jpg',\n",
       " 'drive/My Drive/train_letters/b_blake_4.jpg',\n",
       " 'drive/My Drive/train_letters/c_blake_4.jpg',\n",
       " 'drive/My Drive/train_letters/e_blake_4.jpg',\n",
       " 'drive/My Drive/train_letters/a_blake_1.jpg',\n",
       " 'drive/My Drive/train_letters/a_megan_1.jpg',\n",
       " 'drive/My Drive/train_letters/b_blake_1.jpg',\n",
       " 'drive/My Drive/train_letters/b_megan_1.jpg',\n",
       " 'drive/My Drive/train_letters/c_blake_1.jpg',\n",
       " 'drive/My Drive/train_letters/d_blake_1.jpg',\n",
       " 'drive/My Drive/train_letters/d_megan_1.jpg',\n",
       " 'drive/My Drive/train_letters/e_blake_1.jpg',\n",
       " 'drive/My Drive/train_letters/e_megan_1.jpg',\n",
       " 'drive/My Drive/train_letters/a_megan_2.jpg',\n",
       " 'drive/My Drive/train_letters/b_megan_2.jpg',\n",
       " 'drive/My Drive/train_letters/c_megan_2.jpg',\n",
       " 'drive/My Drive/train_letters/d_megan_2.jpg',\n",
       " 'drive/My Drive/train_letters/a_megan_3.jpg',\n",
       " 'drive/My Drive/train_letters/b_megan_3.jpg',\n",
       " 'drive/My Drive/train_letters/c_megan_3.jpg',\n",
       " 'drive/My Drive/train_letters/d_megan_3.jpg',\n",
       " 'drive/My Drive/train_letters/e_megan_3.jpg',\n",
       " 'drive/My Drive/train_letters/a_megan_4.jpg',\n",
       " 'drive/My Drive/train_letters/b_megan_4.jpg',\n",
       " 'drive/My Drive/train_letters/c_megan_4.jpg',\n",
       " 'drive/My Drive/train_letters/d_megan_4.jpg',\n",
       " 'drive/My Drive/train_letters/e_megan_4.jpg']"
      ]
     },
     "execution_count": 96,
     "metadata": {},
     "output_type": "execute_result"
    }
   ],
   "source": [
    "# import handwritten letters\n",
    "\n",
    "images = glob.glob(\"../train_letters/*.jpg\")\n",
    "images"
   ]
  },
  {
   "cell_type": "code",
   "execution_count": 97,
   "metadata": {
    "colab": {
     "base_uri": "https://localhost:8080/"
    },
    "id": "LMefG43QLsli",
    "outputId": "f044bd0e-7877-476d-ad40-98ffe46ffd6a"
   },
   "outputs": [
    {
     "name": "stdout",
     "output_type": "stream",
     "text": [
      "a\n",
      "a\n",
      "a\n",
      "c\n",
      "d\n",
      "e\n",
      "a\n",
      "b\n",
      "c\n",
      "d\n",
      "e\n",
      "b\n",
      "c\n",
      "d\n",
      "e\n",
      "b\n",
      "c\n",
      "d\n",
      "e\n",
      "a\n",
      "b\n",
      "c\n",
      "d\n",
      "e\n",
      "a\n",
      "b\n",
      "c\n",
      "d\n",
      "e\n",
      "b\n",
      "c\n",
      "e\n",
      "a\n",
      "a\n",
      "b\n",
      "b\n",
      "c\n",
      "d\n",
      "d\n",
      "e\n",
      "e\n",
      "a\n",
      "b\n",
      "c\n",
      "d\n",
      "a\n",
      "b\n",
      "c\n",
      "d\n",
      "e\n",
      "a\n",
      "b\n",
      "c\n",
      "d\n",
      "e\n"
     ]
    }
   ],
   "source": [
    "# pull labels for y target labels\n",
    "\n",
    "image_labels = []\n",
    "for i in images:\n",
    "  image_letter = i[29]\n",
    "  print(image_letter)\n",
    "  image_labels.append(image_letter)"
   ]
  },
  {
   "cell_type": "code",
   "execution_count": 98,
   "metadata": {
    "colab": {
     "base_uri": "https://localhost:8080/"
    },
    "id": "z0QgEv7rMGL-",
    "outputId": "9afef6b6-66d3-4bbd-f320-6b25c7a6a2ec"
   },
   "outputs": [
    {
     "data": {
      "text/plain": [
       "55"
      ]
     },
     "execution_count": 98,
     "metadata": {},
     "output_type": "execute_result"
    }
   ],
   "source": [
    "len(image_labels)"
   ]
  },
  {
   "cell_type": "code",
   "execution_count": 99,
   "metadata": {
    "id": "LHHHNHBhM3eY"
   },
   "outputs": [],
   "source": [
    "#convert to array\n",
    "train_labels = np.array(image_labels)"
   ]
  },
  {
   "cell_type": "code",
   "execution_count": 100,
   "metadata": {
    "colab": {
     "base_uri": "https://localhost:8080/",
     "height": 269
    },
    "id": "qOyRyn0jr8xL",
    "outputId": "78eb26fb-2c75-4118-febf-412a82917dde"
   },
   "outputs": [
    {
     "data": {
      "image/png": "[encoded data removed]",
      "text/plain": [
       "<Figure size 432x288 with 1 Axes>"
      ]
     },
     "metadata": {
      "needs_background": "light"
     },
     "output_type": "display_data"
    }
   ],
   "source": [
    "im = Image.open(images[0])\n",
    "plt.imshow(im);"
   ]
  },
  {
   "cell_type": "code",
   "execution_count": 101,
   "metadata": {
    "colab": {
     "base_uri": "https://localhost:8080/",
     "height": 265
    },
    "id": "nB5szqjusCcg",
    "outputId": "423147d1-a684-42f3-d75f-b0315a3e61cd"
   },
   "outputs": [
    {
     "data": {
      "image/png": "[encoded data removed]",
      "text/plain": [
       "<Figure size 432x288 with 1 Axes>"
      ]
     },
     "metadata": {
      "needs_background": "light"
     },
     "output_type": "display_data"
    }
   ],
   "source": [
    "size = (28,28)\n",
    "im = im.resize(size)\n",
    "plt.imshow(im);"
   ]
  },
  {
   "cell_type": "code",
   "execution_count": 102,
   "metadata": {
    "colab": {
     "base_uri": "https://localhost:8080/",
     "height": 265
    },
    "id": "d20HKiUlsF6M",
    "outputId": "31795c4d-428b-4ac7-f0b6-842f50a1196c"
   },
   "outputs": [
    {
     "data": {
      "image/png": "[encoded data removed]",
      "text/plain": [
       "<Figure size 432x288 with 1 Axes>"
      ]
     },
     "metadata": {
      "needs_background": "light"
     },
     "output_type": "display_data"
    }
   ],
   "source": [
    "im = im.convert(\"L\")\n",
    "plt.imshow(im, cmap='gray');"
   ]
  },
  {
   "cell_type": "code",
   "execution_count": 103,
   "metadata": {
    "colab": {
     "base_uri": "https://localhost:8080/"
    },
    "id": "yzC8PtcDsJii",
    "outputId": "302b2251-1699-4488-9b48-d877c6b2a8bb"
   },
   "outputs": [
    {
     "data": {
      "text/plain": [
       "array([[254, 254, 254, 254, 254, 253, 254, 254, 254, 254, 254, 254, 254,\n",
       "        254, 254, 254, 254, 254, 254, 254, 254, 254, 254, 254, 254, 254,\n",
       "        254, 254],\n",
       "       [254, 254, 254, 254, 254, 254, 254, 254, 254, 254, 254, 254, 254,\n",
       "        254, 254, 254, 254, 254, 254, 254, 254, 254, 254, 254, 254, 254,\n",
       "        254, 254],\n",
       "       [254, 254, 254, 254, 254, 254, 254, 254, 254, 254, 254, 254, 254,\n",
       "        254, 254, 254, 254, 254, 254, 254, 254, 254, 254, 254, 254, 254,\n",
       "        254, 254],\n",
       "       [254, 254, 254, 253, 254, 254, 254, 254, 254, 254, 254, 255, 255,\n",
       "        254, 254, 254, 254, 254, 254, 254, 254, 254, 254, 254, 254, 254,\n",
       "        254, 254],\n",
       "       [254, 254, 254, 254, 254, 254, 254, 254, 254, 254, 254, 223, 219,\n",
       "        255, 254, 254, 254, 254, 254, 254, 254, 254, 254, 254, 254, 254,\n",
       "        254, 254],\n",
       "       [254, 254, 254, 254, 254, 254, 254, 254, 254, 254, 255, 154, 103,\n",
       "        250, 255, 254, 254, 254, 254, 254, 254, 254, 254, 254, 254, 254,\n",
       "        254, 254],\n",
       "       [254, 254, 254, 254, 254, 254, 254, 254, 254, 254, 255, 164,  66,\n",
       "        203, 255, 254, 254, 254, 254, 254, 254, 254, 254, 254, 254, 254,\n",
       "        254, 254],\n",
       "       [254, 254, 254, 254, 254, 254, 254, 254, 254, 255, 253, 117,  61,\n",
       "        113, 249, 255, 254, 254, 254, 254, 254, 254, 254, 254, 254, 254,\n",
       "        254, 254],\n",
       "       [254, 254, 254, 254, 254, 254, 254, 254, 254, 255, 217,  73, 110,\n",
       "         72, 183, 255, 254, 254, 254, 254, 254, 254, 254, 254, 254, 254,\n",
       "        254, 254],\n",
       "       [254, 254, 254, 254, 254, 254, 254, 254, 254, 255, 145,  79, 229,\n",
       "        126,  98, 245, 255, 254, 254, 254, 254, 254, 254, 254, 254, 254,\n",
       "        253, 254],\n",
       "       [254, 254, 254, 254, 254, 254, 254, 254, 255, 235,  80, 145, 255,\n",
       "        202,  68, 199, 255, 254, 254, 254, 254, 254, 254, 254, 254, 254,\n",
       "        254, 254],\n",
       "       [254, 254, 254, 254, 254, 254, 254, 254, 255, 180,  74, 221, 255,\n",
       "        246,  93, 143, 255, 254, 254, 254, 254, 254, 254, 254, 254, 254,\n",
       "        254, 254],\n",
       "       [254, 254, 254, 254, 254, 254, 254, 254, 254, 118, 116, 254, 254,\n",
       "        255, 150,  93, 245, 255, 254, 254, 254, 254, 254, 254, 254, 254,\n",
       "        254, 254],\n",
       "       [254, 254, 254, 254, 254, 254, 254, 255, 233,  79, 175, 255, 254,\n",
       "        255, 207,  72, 201, 255, 254, 254, 254, 254, 254, 254, 254, 254,\n",
       "        254, 254],\n",
       "       [254, 254, 254, 254, 254, 254, 254, 255, 188,  79, 234, 255, 255,\n",
       "        255, 253, 104, 139, 255, 255, 254, 254, 254, 254, 254, 254, 254,\n",
       "        254, 254],\n",
       "       [254, 254, 254, 254, 254, 254, 255, 255, 140,  98, 199, 193, 196,\n",
       "        206, 217, 140,  82, 206, 253, 254, 254, 254, 254, 254, 254, 254,\n",
       "        254, 254],\n",
       "       [254, 254, 254, 254, 254, 255, 250, 183,  85,  72,  67,  66,  67,\n",
       "         67,  69,  73,  70,  73, 189, 255, 254, 254, 254, 254, 254, 254,\n",
       "        254, 254],\n",
       "       [254, 254, 254, 254, 255, 235, 117,  69,  71, 121, 176, 195, 196,\n",
       "        187, 179, 188, 147,  66, 197, 255, 254, 254, 254, 254, 254, 254,\n",
       "        254, 254],\n",
       "       [254, 254, 254, 254, 255, 221, 118,  98,  93, 242, 255, 255, 255,\n",
       "        255, 255, 255, 242, 101, 103, 227, 255, 254, 254, 254, 254, 254,\n",
       "        254, 254],\n",
       "       [254, 254, 254, 254, 254, 255, 253, 109, 123, 255, 254, 254, 254,\n",
       "        254, 254, 254, 255, 220,  93,  75, 178, 255, 254, 254, 254, 254,\n",
       "        254, 254],\n",
       "       [254, 254, 254, 254, 254, 255, 226,  74, 167, 255, 254, 254, 254,\n",
       "        254, 254, 254, 254, 255, 232, 144, 147, 254, 255, 254, 254, 254,\n",
       "        254, 254],\n",
       "       [254, 254, 254, 254, 254, 255, 173,  78, 224, 255, 254, 254, 254,\n",
       "        254, 254, 254, 254, 254, 255, 255, 254, 254, 254, 254, 254, 254,\n",
       "        254, 254],\n",
       "       [254, 254, 254, 254, 254, 255, 125, 110, 253, 255, 254, 254, 254,\n",
       "        254, 254, 254, 254, 254, 254, 254, 254, 254, 254, 254, 254, 254,\n",
       "        254, 254],\n",
       "       [254, 254, 254, 254, 254, 254, 223, 215, 255, 254, 254, 254, 254,\n",
       "        254, 254, 254, 254, 254, 254, 254, 254, 254, 254, 254, 254, 254,\n",
       "        254, 254],\n",
       "       [254, 254, 254, 254, 254, 254, 255, 255, 254, 254, 254, 254, 254,\n",
       "        254, 254, 254, 254, 254, 254, 254, 254, 254, 254, 254, 254, 254,\n",
       "        254, 254],\n",
       "       [254, 254, 254, 254, 254, 254, 254, 254, 254, 254, 254, 254, 254,\n",
       "        254, 254, 254, 254, 254, 254, 254, 254, 254, 254, 254, 254, 254,\n",
       "        254, 254],\n",
       "       [254, 254, 254, 254, 254, 254, 254, 254, 254, 254, 254, 254, 254,\n",
       "        254, 254, 254, 254, 254, 254, 254, 254, 254, 254, 254, 254, 254,\n",
       "        254, 254],\n",
       "       [254, 254, 254, 254, 254, 254, 254, 254, 254, 254, 254, 254, 254,\n",
       "        254, 254, 254, 254, 254, 254, 254, 254, 254, 254, 254, 254, 254,\n",
       "        254, 254]], dtype=uint8)"
      ]
     },
     "execution_count": 103,
     "metadata": {},
     "output_type": "execute_result"
    }
   ],
   "source": [
    "im = np.array(im)\n",
    "im"
   ]
  },
  {
   "cell_type": "code",
   "execution_count": 104,
   "metadata": {
    "colab": {
     "base_uri": "https://localhost:8080/"
    },
    "id": "kOSNJ82ixHUY",
    "outputId": "b0373db8-bc39-4c28-e9c4-ff5b98290409"
   },
   "outputs": [
    {
     "data": {
      "text/plain": [
       "255"
      ]
     },
     "execution_count": 104,
     "metadata": {},
     "output_type": "execute_result"
    }
   ],
   "source": [
    "im.max()"
   ]
  },
  {
   "cell_type": "code",
   "execution_count": 105,
   "metadata": {
    "colab": {
     "base_uri": "https://localhost:8080/"
    },
    "id": "5as8FnJaxwqV",
    "outputId": "422e380b-44e2-42ab-9399-264e60291c3f"
   },
   "outputs": [
    {
     "name": "stdout",
     "output_type": "stream",
     "text": [
      "(28, 28)\n"
     ]
    }
   ],
   "source": [
    "print(im.shape)"
   ]
  },
  {
   "cell_type": "code",
   "execution_count": 106,
   "metadata": {
    "colab": {
     "base_uri": "https://localhost:8080/",
     "height": 265
    },
    "id": "ikSQt1INxxS9",
    "outputId": "42df0c82-5480-419b-8123-542df17d9d5d"
   },
   "outputs": [
    {
     "data": {
      "image/png": "[encoded data removed]",
      "text/plain": [
       "<Figure size 432x288 with 1 Axes>"
      ]
     },
     "metadata": {
      "needs_background": "light"
     },
     "output_type": "display_data"
    }
   ],
   "source": [
    "# load each image, run the initial conversion steps, combine in a list\n",
    "new_images = []\n",
    "new_size = (28,28)\n",
    "for im in images:\n",
    "  im = Image.open(im).convert(\"L\").resize(new_size)\n",
    "  plt.imshow(im)\n",
    "  new_images.append(np.array(im))"
   ]
  },
  {
   "cell_type": "code",
   "execution_count": 107,
   "metadata": {
    "colab": {
     "base_uri": "https://localhost:8080/"
    },
    "id": "O49-zkbR0HWn",
    "outputId": "045e9d8d-fdff-463a-ad00-2f607d505b96"
   },
   "outputs": [
    {
     "data": {
      "text/plain": [
       "55"
      ]
     },
     "execution_count": 107,
     "metadata": {},
     "output_type": "execute_result"
    }
   ],
   "source": [
    "len(new_images)"
   ]
  },
  {
   "cell_type": "code",
   "execution_count": 108,
   "metadata": {
    "colab": {
     "base_uri": "https://localhost:8080/",
     "height": 614
    },
    "id": "RwGVxWHdzR3U",
    "outputId": "a98398eb-688e-44c4-b247-d62380067636"
   },
   "outputs": [
    {
     "name": "stdout",
     "output_type": "stream",
     "text": [
      "Look at the letters\n"
     ]
    },
    {
     "data": {
      "image/png": "[encoded data removed]",
      "text/plain": [
       "<Figure size 864x720 with 55 Axes>"
      ]
     },
     "metadata": {
      "needs_background": "light"
     },
     "output_type": "display_data"
    }
   ],
   "source": [
    "# Look at our letters\n",
    "\n",
    "print('Look at the letters')\n",
    "plt.figure(figsize = (12,10))\n",
    "row, colums = 5, 11\n",
    "for i in range(55):\n",
    "    plt.subplot(colums, row, i+1)\n",
    "    plt.imshow(new_images[i].reshape(28,28),interpolation='nearest', cmap='Greys')\n",
    "plt.show()"
   ]
  },
  {
   "cell_type": "code",
   "execution_count": 109,
   "metadata": {
    "id": "uUzw5xzj3hcQ"
   },
   "outputs": [],
   "source": [
    "# reshape to add color channel\n",
    "new_images = np.array(new_images)\n",
    "new = new_images.reshape(new_images.shape + (1,))"
   ]
  },
  {
   "cell_type": "code",
   "execution_count": 110,
   "metadata": {
    "colab": {
     "base_uri": "https://localhost:8080/"
    },
    "id": "kTZEFvT_4jA8",
    "outputId": "f9dcd096-0fd0-4340-d6b8-a4b4933f9355"
   },
   "outputs": [
    {
     "data": {
      "text/plain": [
       "(55, 28, 28, 1)"
      ]
     },
     "execution_count": 110,
     "metadata": {},
     "output_type": "execute_result"
    }
   ],
   "source": [
    "new.shape"
   ]
  },
  {
   "cell_type": "code",
   "execution_count": 111,
   "metadata": {
    "id": "59JhZ2CkN6f6"
   },
   "outputs": [],
   "source": [
    "x_train_abcde = new"
   ]
  },
  {
   "cell_type": "code",
   "execution_count": 112,
   "metadata": {
    "colab": {
     "base_uri": "https://localhost:8080/"
    },
    "id": "4hZK7KmyIxam",
    "outputId": "3d940f8e-a579-424a-a27b-bfa2708c60d5"
   },
   "outputs": [
    {
     "data": {
      "text/plain": [
       "(55,)"
      ]
     },
     "execution_count": 112,
     "metadata": {},
     "output_type": "execute_result"
    }
   ],
   "source": [
    "# add labels and one hot encode\n",
    "train_labels.shape"
   ]
  },
  {
   "cell_type": "code",
   "execution_count": 113,
   "metadata": {
    "id": "UyeSZ5FDPWq0"
   },
   "outputs": [],
   "source": [
    "# encode labels\n",
    "le = LabelEncoder()\n",
    "y_train_abcde = le.fit_transform(train_labels)"
   ]
  },
  {
   "cell_type": "code",
   "execution_count": 114,
   "metadata": {
    "colab": {
     "base_uri": "https://localhost:8080/"
    },
    "id": "ojCe2q0HAnjg",
    "outputId": "fe7e5853-2d8d-4505-97f9-b48edcf22fb3"
   },
   "outputs": [
    {
     "data": {
      "text/plain": [
       "(55,)"
      ]
     },
     "execution_count": 114,
     "metadata": {},
     "output_type": "execute_result"
    }
   ],
   "source": [
    "y_train_abcde.shape"
   ]
  },
  {
   "cell_type": "code",
   "execution_count": 115,
   "metadata": {
    "colab": {
     "base_uri": "https://localhost:8080/"
    },
    "id": "lB3_mmasH48v",
    "outputId": "4d5203dc-b226-4862-b346-a4b6f5f75f57"
   },
   "outputs": [
    {
     "data": {
      "text/plain": [
       "array([0, 1, 2, 3, 4])"
      ]
     },
     "execution_count": 115,
     "metadata": {},
     "output_type": "execute_result"
    }
   ],
   "source": [
    "np.unique(y_train_abcde)"
   ]
  },
  {
   "cell_type": "markdown",
   "metadata": {
    "id": "zWheOfU1Qne4"
   },
   "source": [
    "# Load Test Set"
   ]
  },
  {
   "cell_type": "code",
   "execution_count": 116,
   "metadata": {
    "colab": {
     "base_uri": "https://localhost:8080/"
    },
    "id": "fkRK3ZqzQpNY",
    "outputId": "745f32e4-991b-4acc-ad2b-6f5aea15423b"
   },
   "outputs": [
    {
     "data": {
      "text/plain": [
       "['drive/My Drive/test_letters/b_matt_2.jpg',\n",
       " 'drive/My Drive/test_letters/d_blake_4.jpg',\n",
       " 'drive/My Drive/test_letters/c_megan_1.jpg',\n",
       " 'drive/My Drive/test_letters/e_megan_2.jpg',\n",
       " 'drive/My Drive/test_letters/a_blake_4.jpg']"
      ]
     },
     "execution_count": 116,
     "metadata": {},
     "output_type": "execute_result"
    }
   ],
   "source": [
    "# import handwritten letters\n",
    "\n",
    "test_images = glob.glob(\"../test_letters/*.jpg\")\n",
    "test_images"
   ]
  },
  {
   "cell_type": "code",
   "execution_count": 117,
   "metadata": {
    "colab": {
     "base_uri": "https://localhost:8080/",
     "height": 265
    },
    "id": "6w7NreJPQ12W",
    "outputId": "79d0d086-9938-4bcb-9e92-f302d27e9801"
   },
   "outputs": [
    {
     "data": {
      "image/png": "[encoded data removed]",
      "text/plain": [
       "<Figure size 432x288 with 1 Axes>"
      ]
     },
     "metadata": {
      "needs_background": "light"
     },
     "output_type": "display_data"
    }
   ],
   "source": [
    "# load each image, run the initial conversion steps, combine in a list\n",
    "new_test_images = []\n",
    "new_size = (28,28)\n",
    "for im in test_images:\n",
    "  im = Image.open(im).convert(\"L\").resize(new_size)\n",
    "  plt.imshow(im)\n",
    "  new_test_images.append(np.array(im))"
   ]
  },
  {
   "cell_type": "code",
   "execution_count": 118,
   "metadata": {
    "colab": {
     "base_uri": "https://localhost:8080/",
     "height": 613
    },
    "id": "FLL3GJVwRN1Z",
    "outputId": "2e9aa54d-30d9-4e94-ab34-0acc4384b2cc"
   },
   "outputs": [
    {
     "name": "stdout",
     "output_type": "stream",
     "text": [
      "Look at the letters\n"
     ]
    },
    {
     "data": {
      "image/png": "[encoded data removed]",
      "text/plain": [
       "<Figure size 864x720 with 5 Axes>"
      ]
     },
     "metadata": {
      "needs_background": "light"
     },
     "output_type": "display_data"
    }
   ],
   "source": [
    "# Look at our letters\n",
    "\n",
    "print('Look at the letters')\n",
    "plt.figure(figsize = (12,10))\n",
    "row, colums = 1, 5\n",
    "for i in range(5):\n",
    "    plt.subplot(colums, row, i+1)\n",
    "    plt.imshow(new_test_images[i].reshape(28,28),interpolation='nearest', cmap='Greys')\n",
    "plt.show()"
   ]
  },
  {
   "cell_type": "code",
   "execution_count": 119,
   "metadata": {
    "id": "T-7N5DJ9R8y_"
   },
   "outputs": [],
   "source": [
    "# reshape to add color channel\n",
    "test = np.array(new_test_images)\n",
    "new_test = test.reshape(test.shape + (1,))"
   ]
  },
  {
   "cell_type": "code",
   "execution_count": 120,
   "metadata": {
    "colab": {
     "base_uri": "https://localhost:8080/"
    },
    "id": "D8pMxLc3SAh_",
    "outputId": "83e0b4b3-5d1a-4e70-c9ce-baae60887025"
   },
   "outputs": [
    {
     "data": {
      "text/plain": [
       "(5, 28, 28, 1)"
      ]
     },
     "execution_count": 120,
     "metadata": {},
     "output_type": "execute_result"
    }
   ],
   "source": [
    "new_test.shape"
   ]
  },
  {
   "cell_type": "code",
   "execution_count": 121,
   "metadata": {
    "id": "Jyq2cngwSgb5"
   },
   "outputs": [],
   "source": [
    "x_test_abcde = new_test"
   ]
  },
  {
   "cell_type": "code",
   "execution_count": 122,
   "metadata": {
    "colab": {
     "base_uri": "https://localhost:8080/"
    },
    "id": "gs1pzvLZRaWu",
    "outputId": "e86d96a4-2f38-4f53-a5c5-2971a645529e"
   },
   "outputs": [
    {
     "name": "stdout",
     "output_type": "stream",
     "text": [
      "b\n",
      "d\n",
      "c\n",
      "e\n",
      "a\n"
     ]
    }
   ],
   "source": [
    "test_image_labels = []\n",
    "for i in test_images:\n",
    "  test_image_letter = i[28]\n",
    "  print(test_image_letter)\n",
    "  test_image_labels.append(test_image_letter)"
   ]
  },
  {
   "cell_type": "code",
   "execution_count": 123,
   "metadata": {
    "id": "JK916KL1RmTZ"
   },
   "outputs": [],
   "source": [
    "# encode labels\n",
    "test_labels = np.array(test_image_labels)\n",
    "y_test_abcde = le.fit_transform(test_labels)"
   ]
  },
  {
   "cell_type": "code",
   "execution_count": 124,
   "metadata": {
    "colab": {
     "base_uri": "https://localhost:8080/"
    },
    "id": "2Hj6PfwiSkjS",
    "outputId": "db9b4826-7114-4b63-ef30-4efe9c62051f"
   },
   "outputs": [
    {
     "data": {
      "text/plain": [
       "((55, 28, 28, 1), (55,), (5, 28, 28, 1), (5,))"
      ]
     },
     "execution_count": 124,
     "metadata": {},
     "output_type": "execute_result"
    }
   ],
   "source": [
    "x_train_abcde.shape, y_train_abcde.shape, x_test_abcde.shape, y_test_abcde.shape"
   ]
  },
  {
   "cell_type": "code",
   "execution_count": 125,
   "metadata": {
    "colab": {
     "base_uri": "https://localhost:8080/"
    },
    "id": "i03Q9uwvTBCW",
    "outputId": "9b85f3f7-c09f-414f-c2cf-609154706676"
   },
   "outputs": [
    {
     "data": {
      "text/plain": [
       "array([0, 0, 0, 2, 3, 4, 0, 1, 2, 3, 4, 1, 2, 3, 4, 1, 2, 3, 4, 0, 1, 2,\n",
       "       3, 4, 0, 1, 2, 3, 4, 1, 2, 4, 0, 0, 1, 1, 2, 3, 3, 4, 4, 0, 1, 2,\n",
       "       3, 0, 1, 2, 3, 4, 0, 1, 2, 3, 4])"
      ]
     },
     "execution_count": 125,
     "metadata": {},
     "output_type": "execute_result"
    }
   ],
   "source": [
    "y_train_abcde"
   ]
  },
  {
   "cell_type": "code",
   "execution_count": 126,
   "metadata": {
    "colab": {
     "base_uri": "https://localhost:8080/"
    },
    "id": "albTnVkPTDe9",
    "outputId": "dddbc872-7da8-4f76-f8cf-4299bf42fc70"
   },
   "outputs": [
    {
     "data": {
      "text/plain": [
       "array([1, 3, 2, 4, 0])"
      ]
     },
     "execution_count": 126,
     "metadata": {},
     "output_type": "execute_result"
    }
   ],
   "source": [
    "y_test_abcde"
   ]
  },
  {
   "cell_type": "markdown",
   "metadata": {
    "id": "9_O0ktgn5wj-"
   },
   "source": [
    "# Transfer Learning"
   ]
  },
  {
   "cell_type": "code",
   "execution_count": 127,
   "metadata": {
    "colab": {
     "base_uri": "https://localhost:8080/"
    },
    "id": "nMW5256K4mF3",
    "outputId": "b6d1af0c-55a9-4acf-927a-8e0d9f772434"
   },
   "outputs": [
    {
     "name": "stdout",
     "output_type": "stream",
     "text": [
      "Layer Name        Is Trainable?\n",
      "conv2d_2          False\n",
      "max_pooling2d_2   False\n",
      "conv2d_3          False\n",
      "max_pooling2d_3   False\n",
      "flatten           False\n",
      "dropout_1         True\n",
      "dense_2           True\n",
      "penult            True\n",
      "last              True\n"
     ]
    }
   ],
   "source": [
    "# lock the ConvNet layers\n",
    "layer_trainable = False\n",
    "for layer in model.layers:\n",
    "  layer.trainable = layer_trainable\n",
    "  if layer.name == 'flatten':\n",
    "    layer_trainable = True\n",
    "\n",
    "print(f\"{'Layer Name':17} {'Is Trainable?'}\")\n",
    "for layer in model.layers:\n",
    "  print(f\"{layer.name:17} {layer.trainable}\")"
   ]
  },
  {
   "cell_type": "code",
   "execution_count": 128,
   "metadata": {
    "id": "iXPq8NHV5zh0"
   },
   "outputs": [],
   "source": [
    "# get the penultimate layer of the model\n",
    "penult_layer = model.get_layer(name='penult')\n",
    "\n",
    "# create a new output layer\n",
    "output_layer = keras.layers.Dense(5, activation='softmax')(penult_layer.output) #change to 5 output values\n",
    "\n",
    "# create new model with new output layer\n",
    "new_model = Model(model.input, output_layer)"
   ]
  },
  {
   "cell_type": "markdown",
   "metadata": {
    "id": "4OTrcB8nZUCH"
   },
   "source": [
    "In our new output layer, we want 5 values instead of the 10 that was originally trained on."
   ]
  },
  {
   "cell_type": "code",
   "execution_count": 129,
   "metadata": {
    "colab": {
     "base_uri": "https://localhost:8080/"
    },
    "id": "q7u_ubtY6Cyj",
    "outputId": "7c84a3bc-1a43-4cbf-dc78-b9b12ba10a9a"
   },
   "outputs": [
    {
     "name": "stdout",
     "output_type": "stream",
     "text": [
      "Model: \"model_1\"\n",
      "_________________________________________________________________\n",
      "Layer (type)                 Output Shape              Param #   \n",
      "=================================================================\n",
      "conv2d_2_input (InputLayer)  [(None, 28, 28, 1)]       0         \n",
      "_________________________________________________________________\n",
      "conv2d_2 (Conv2D)            (None, 26, 26, 32)        320       \n",
      "_________________________________________________________________\n",
      "max_pooling2d_2 (MaxPooling2 (None, 13, 13, 32)        0         \n",
      "_________________________________________________________________\n",
      "conv2d_3 (Conv2D)            (None, 11, 11, 32)        9248      \n",
      "_________________________________________________________________\n",
      "max_pooling2d_3 (MaxPooling2 (None, 5, 5, 32)          0         \n",
      "_________________________________________________________________\n",
      "flatten (Flatten)            (None, 800)               0         \n",
      "_________________________________________________________________\n",
      "dropout_1 (Dropout)          (None, 800)               0         \n",
      "_________________________________________________________________\n",
      "dense_2 (Dense)              (None, 128)               102528    \n",
      "_________________________________________________________________\n",
      "penult (Dropout)             (None, 128)               0         \n",
      "_________________________________________________________________\n",
      "dense_3 (Dense)              (None, 5)                 645       \n",
      "=================================================================\n",
      "Total params: 112,741\n",
      "Trainable params: 103,173\n",
      "Non-trainable params: 9,568\n",
      "_________________________________________________________________\n"
     ]
    }
   ],
   "source": [
    "new_model.summary()"
   ]
  },
  {
   "cell_type": "code",
   "execution_count": 130,
   "metadata": {
    "colab": {
     "base_uri": "https://localhost:8080/"
    },
    "id": "VaTZZFvR6O5c",
    "outputId": "f7c92c97-e305-480a-fdd0-e5f82ed6b796"
   },
   "outputs": [
    {
     "name": "stdout",
     "output_type": "stream",
     "text": [
      "Epoch 1/1000\n",
      "2/2 [==============================] - 1s 182ms/step - loss: 237.6103 - accuracy: 0.2909 - val_loss: 104.6248 - val_accuracy: 0.2000\n",
      "Epoch 2/1000\n",
      "2/2 [==============================] - 0s 28ms/step - loss: 146.5788 - accuracy: 0.3091 - val_loss: 67.9995 - val_accuracy: 0.2000\n",
      "Epoch 3/1000\n",
      "2/2 [==============================] - 0s 28ms/step - loss: 171.9885 - accuracy: 0.2545 - val_loss: 37.4808 - val_accuracy: 0.4000\n",
      "Epoch 4/1000\n",
      "2/2 [==============================] - 0s 27ms/step - loss: 154.9301 - accuracy: 0.3273 - val_loss: 35.9999 - val_accuracy: 0.4000\n",
      "Epoch 5/1000\n",
      "2/2 [==============================] - 0s 35ms/step - loss: 158.9217 - accuracy: 0.3818 - val_loss: 38.5569 - val_accuracy: 0.4000\n",
      "Epoch 6/1000\n",
      "2/2 [==============================] - 0s 27ms/step - loss: 86.6223 - accuracy: 0.4364 - val_loss: 30.3142 - val_accuracy: 0.4000\n",
      "Epoch 7/1000\n",
      "2/2 [==============================] - 0s 27ms/step - loss: 118.9023 - accuracy: 0.5273 - val_loss: 25.3365 - val_accuracy: 0.6000\n",
      "Epoch 8/1000\n",
      "2/2 [==============================] - 0s 28ms/step - loss: 71.8622 - accuracy: 0.5818 - val_loss: 20.7313 - val_accuracy: 0.6000\n",
      "Epoch 9/1000\n",
      "2/2 [==============================] - 0s 27ms/step - loss: 54.4536 - accuracy: 0.6000 - val_loss: 16.6635 - val_accuracy: 0.6000\n",
      "Epoch 10/1000\n",
      "2/2 [==============================] - 0s 30ms/step - loss: 40.5796 - accuracy: 0.5818 - val_loss: 20.0144 - val_accuracy: 0.6000\n",
      "Epoch 11/1000\n",
      "2/2 [==============================] - 0s 29ms/step - loss: 54.9592 - accuracy: 0.6364 - val_loss: 22.5875 - val_accuracy: 0.6000\n"
     ]
    }
   ],
   "source": [
    "new_model.compile(loss='sparse_categorical_crossentropy',\n",
    "                  optimizer='adam',\n",
    "                  metrics=['accuracy'])\n",
    "\n",
    "new_model_hist = new_model.fit(x_train_abcde, y_train_abcde,\n",
    "                              validation_data=(x_test_abcde, y_test_abcde),\n",
    "                              batch_size=32,\n",
    "                              epochs=1000,\n",
    "                              callbacks=[es])"
   ]
  },
  {
   "cell_type": "code",
   "execution_count": 131,
   "metadata": {
    "colab": {
     "base_uri": "https://localhost:8080/",
     "height": 458
    },
    "id": "jVZ-4is4Tc72",
    "outputId": "2ecf5cc2-b86f-4024-f386-21a4bae233ee"
   },
   "outputs": [
    {
     "data": {
      "image/png": "[encoded data removed]",
      "text/plain": [
       "<Figure size 1080x504 with 2 Axes>"
      ]
     },
     "metadata": {
      "needs_background": "light"
     },
     "output_type": "display_data"
    }
   ],
   "source": [
    "plot_training_curves(new_model_hist)"
   ]
  },
  {
   "cell_type": "markdown",
   "metadata": {
    "id": "kUiUB-CdYs2m"
   },
   "source": [
    "Based on the accuracy plot, it appears that we are likely overfitting our original model. Based on the small sample size in addition to the fact that we trained on a set of numbers instead of letters, it is not surprising that our letter data set has a lower accuracy."
   ]
  },
  {
   "cell_type": "code",
   "execution_count": 132,
   "metadata": {
    "id": "aczVNS0VcjNc"
   },
   "outputs": [],
   "source": [
    "pred_new = new_model.predict(x_test_abcde)"
   ]
  },
  {
   "cell_type": "code",
   "execution_count": 133,
   "metadata": {
    "colab": {
     "base_uri": "https://localhost:8080/"
    },
    "id": "HbvSGJmWebzf",
    "outputId": "57949e8c-e99b-4ef9-891b-5822259449b2"
   },
   "outputs": [
    {
     "data": {
      "text/plain": [
       "array([[0.0000000e+00, 1.0000000e+00, 5.3415194e-38, 0.0000000e+00,\n",
       "        0.0000000e+00],\n",
       "       [0.0000000e+00, 0.0000000e+00, 0.0000000e+00, 1.0000000e+00,\n",
       "        0.0000000e+00],\n",
       "       [8.5915488e-01, 0.0000000e+00, 1.4084509e-01, 0.0000000e+00,\n",
       "        5.0356884e-30],\n",
       "       [0.0000000e+00, 1.3686059e-31, 1.0000000e+00, 0.0000000e+00,\n",
       "        0.0000000e+00],\n",
       "       [1.0000000e+00, 0.0000000e+00, 0.0000000e+00, 0.0000000e+00,\n",
       "        0.0000000e+00]], dtype=float32)"
      ]
     },
     "execution_count": 133,
     "metadata": {},
     "output_type": "execute_result"
    }
   ],
   "source": [
    "pred_new"
   ]
  },
  {
   "cell_type": "code",
   "execution_count": 134,
   "metadata": {
    "colab": {
     "base_uri": "https://localhost:8080/"
    },
    "id": "58KxVd5Gf3Xy",
    "outputId": "2fa2e375-93cd-4c57-8634-4fa5c237fdd8"
   },
   "outputs": [
    {
     "data": {
      "text/plain": [
       "0.6"
      ]
     },
     "execution_count": 134,
     "metadata": {},
     "output_type": "execute_result"
    }
   ],
   "source": [
    "# argmax along rows to get classification\n",
    "preds_new = np.argmax(pred_new, axis=1).astype(\"uint8\")\n",
    "\n",
    "accuracy_score(y_test_abcde, preds_new)"
   ]
  },
  {
   "cell_type": "code",
   "execution_count": 135,
   "metadata": {
    "colab": {
     "base_uri": "https://localhost:8080/"
    },
    "id": "pgpMUn4dgCvq",
    "outputId": "eca82b15-7fcd-4a26-92e3-61698bcb812c"
   },
   "outputs": [
    {
     "data": {
      "text/plain": [
       "array([1, 3, 0, 2, 0], dtype=uint8)"
      ]
     },
     "execution_count": 135,
     "metadata": {},
     "output_type": "execute_result"
    }
   ],
   "source": [
    "preds_new"
   ]
  },
  {
   "cell_type": "code",
   "execution_count": 136,
   "metadata": {
    "colab": {
     "base_uri": "https://localhost:8080/"
    },
    "id": "HO7WbaGUgG8z",
    "outputId": "ca4d9217-910b-48ec-e738-6a7c428f46bb"
   },
   "outputs": [
    {
     "data": {
      "text/plain": [
       "array([1, 3, 2, 4, 0])"
      ]
     },
     "execution_count": 136,
     "metadata": {},
     "output_type": "execute_result"
    }
   ],
   "source": [
    "y_test_abcde"
   ]
  }
 ],
 "metadata": {
  "colab": {
   "collapsed_sections": [],
   "name": "ML2_HW4",
   "provenance": []
  },
  "kernelspec": {
   "display_name": "Python 3 (ipykernel)",
   "language": "python",
   "name": "python3"
  },
  "language_info": {
   "codemirror_mode": {
    "name": "ipython",
    "version": 3
   },
   "file_extension": ".py",
   "mimetype": "text/x-python",
   "name": "python",
   "nbconvert_exporter": "python",
   "pygments_lexer": "ipython3",
   "version": "3.7.10"
  },
  "toc": {
   "base_numbering": 1,
   "nav_menu": {},
   "number_sections": true,
   "sideBar": true,
   "skip_h1_title": false,
   "title_cell": "Table of Contents",
   "title_sidebar": "Contents",
   "toc_cell": false,
   "toc_position": {},
   "toc_section_display": true,
   "toc_window_display": false
  }
 },
 "nbformat": 4,
 "nbformat_minor": 1
}
